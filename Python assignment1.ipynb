{
 "cells": [
  {
   "cell_type": "code",
   "execution_count": 13,
   "id": "668c2c5c",
   "metadata": {},
   "outputs": [
    {
     "ename": "TypeError",
     "evalue": "list indices must be integers or slices, not str",
     "output_type": "error",
     "traceback": [
      "\u001b[1;31m---------------------------------------------------------------------------\u001b[0m",
      "\u001b[1;31mTypeError\u001b[0m                                 Traceback (most recent call last)",
      "Cell \u001b[1;32mIn[13], line 2\u001b[0m\n\u001b[0;32m      1\u001b[0m d \u001b[38;5;241m=\u001b[39m {\u001b[38;5;124m'\u001b[39m\u001b[38;5;124m1\u001b[39m\u001b[38;5;124m'\u001b[39m:\u001b[38;5;124m'\u001b[39m\u001b[38;5;124mOne\u001b[39m\u001b[38;5;124m'\u001b[39m,\u001b[38;5;124m'\u001b[39m\u001b[38;5;124m2\u001b[39m\u001b[38;5;124m'\u001b[39m:[\u001b[38;5;241m1\u001b[39m,{\u001b[38;5;124m'\u001b[39m\u001b[38;5;124mTwo\u001b[39m\u001b[38;5;124m'\u001b[39m:[\u001b[38;5;124m'\u001b[39m\u001b[38;5;124mCh\u001b[39m\u001b[38;5;124m'\u001b[39m,\u001b[38;5;124m'\u001b[39m\u001b[38;5;124mCbe\u001b[39m\u001b[38;5;124m'\u001b[39m,\u001b[38;5;124m'\u001b[39m\u001b[38;5;124mSalem\u001b[39m\u001b[38;5;124m'\u001b[39m,{\u001b[38;5;124m'\u001b[39m\u001b[38;5;124mPlace\u001b[39m\u001b[38;5;124m'\u001b[39m:[\u001b[38;5;241m5\u001b[39m,\u001b[38;5;241m6\u001b[39m,\u001b[38;5;241m7\u001b[39m,\u001b[38;5;124m'\u001b[39m\u001b[38;5;124mBangalore\u001b[39m\u001b[38;5;124m'\u001b[39m]}]}]}\n\u001b[1;32m----> 2\u001b[0m \u001b[38;5;28mprint\u001b[39m(\u001b[43md\u001b[49m\u001b[43m[\u001b[49m\u001b[38;5;124;43m'\u001b[39;49m\u001b[38;5;124;43m2\u001b[39;49m\u001b[38;5;124;43m'\u001b[39;49m\u001b[43m]\u001b[49m\u001b[43m[\u001b[49m\u001b[38;5;124;43m'\u001b[39;49m\u001b[38;5;124;43mTwo\u001b[39;49m\u001b[38;5;124;43m'\u001b[39;49m\u001b[43m]\u001b[49m[\u001b[38;5;124m'\u001b[39m\u001b[38;5;124mplace\u001b[39m\u001b[38;5;124m'\u001b[39m][\u001b[38;5;241m3\u001b[39m])\n",
      "\u001b[1;31mTypeError\u001b[0m: list indices must be integers or slices, not str"
     ]
    }
   ],
   "source": [
    "d = {'1':'One','2':[1,{'Two':['Ch','Cbe','Salem',{'Place':[5,6,7,'Bangalore']}]}]}\n",
    "print(d['2']['Two']['place'][3])"
   ]
  },
  {
   "cell_type": "code",
   "execution_count": 37,
   "id": "9b290a23",
   "metadata": {},
   "outputs": [
    {
     "ename": "IndentationError",
     "evalue": "expected an indented block after 'if' statement on line 4 (676800055.py, line 5)",
     "output_type": "error",
     "traceback": [
      "\u001b[1;36m  Cell \u001b[1;32mIn[37], line 5\u001b[1;36m\u001b[0m\n\u001b[1;33m    print(a)\u001b[0m\n\u001b[1;37m    ^\u001b[0m\n\u001b[1;31mIndentationError\u001b[0m\u001b[1;31m:\u001b[0m expected an indented block after 'if' statement on line 4\n"
     ]
    }
   ],
   "source": []
  },
  {
   "cell_type": "code",
   "execution_count": 46,
   "id": "b0625c92",
   "metadata": {},
   "outputs": [
    {
     "name": "stdout",
     "output_type": "stream",
     "text": [
      "enter the some numbers commas:1,22,33,4,6\n",
      "['1', '22', '33', '4', '6']\n",
      "enter the some commas:20,30,50\n",
      "['20', '30', '50']\n"
     ]
    }
   ],
   "source": [
    "values = input(\"enter the some numbers commas:\")\n",
    "list = (values.split(','))\n",
    "print(list)\n",
    "\"========\"\n",
    "values = input(\"enter the some commas:\")\n",
    "tup = (values.split(','))\n",
    "print(tup)"
   ]
  },
  {
   "cell_type": "code",
   "execution_count": 50,
   "id": "d3518a97",
   "metadata": {},
   "outputs": [
    {
     "name": "stdout",
     "output_type": "stream",
     "text": [
      "Red\n",
      "Black\n"
     ]
    }
   ],
   "source": [
    "color_list = [\"Red\",\"Green\",\"White\" ,\"Black\"]\n",
    "print(color_list.pop(0))\n",
    "print(color_list.pop())"
   ]
  },
  {
   "cell_type": "code",
   "execution_count": 67,
   "id": "881d698a",
   "metadata": {},
   "outputs": [
    {
     "name": "stdout",
     "output_type": "stream",
     "text": [
      "<class 'list'>\n",
      "True\n",
      "False\n"
     ]
    }
   ],
   "source": [
    "list=[1,2,3,4,5,6,7,8,9,10]\n",
    "print(type(list))\n",
    "\"-------\"\n",
    "print(9 in list)\n",
    "print(12 in list)"
   ]
  },
  {
   "cell_type": "code",
   "execution_count": 92,
   "id": "6d8cec6d",
   "metadata": {},
   "outputs": [
    {
     "ename": "IndentationError",
     "evalue": "expected an indented block after function definition on line 1 (1020465568.py, line 2)",
     "output_type": "error",
     "traceback": [
      "\u001b[1;36m  Cell \u001b[1;32mIn[92], line 2\u001b[1;36m\u001b[0m\n\u001b[1;33m    def subtraction(a,b):\u001b[0m\n\u001b[1;37m    ^\u001b[0m\n\u001b[1;31mIndentationError\u001b[0m\u001b[1;31m:\u001b[0m expected an indented block after function definition on line 1\n"
     ]
    }
   ],
   "source": [
    "def addition(a,b):\n",
    "def subtraction(a,b):\n",
    "# def subtraction(A,B):\n",
    "    value1 = float(input(\"Enter the a value:\"))\n",
    "    value2 = float(input(\"Enter the b value:\"))\n",
    "# value2 = float(input\"Enter the A,B value:\")\n",
    "    addition=value1+value2\n",
    "    subtraction=value1-value2\n",
    "    \n",
    "    \n",
    "# subtraction=A-B\n",
    "    return(addition)\n",
    "#     subtraction=value1-value2\n",
    "    return(subtraction)\n",
    "# return(A,B)\n",
    "\n",
    "    "
   ]
  },
  {
   "cell_type": "code",
   "execution_count": 93,
   "id": "9b90ee65",
   "metadata": {},
   "outputs": [
    {
     "name": "stdout",
     "output_type": "stream",
     "text": [
      "Enter the a value:10\n",
      "Enter the b value:50\n"
     ]
    },
    {
     "ename": "NameError",
     "evalue": "name 'subtraction' is not defined",
     "output_type": "error",
     "traceback": [
      "\u001b[1;31m---------------------------------------------------------------------------\u001b[0m",
      "\u001b[1;31mNameError\u001b[0m                                 Traceback (most recent call last)",
      "Cell \u001b[1;32mIn[93], line 2\u001b[0m\n\u001b[0;32m      1\u001b[0m addition(\u001b[38;5;241m10\u001b[39m,\u001b[38;5;241m50\u001b[39m)\n\u001b[1;32m----> 2\u001b[0m \u001b[43msubtraction\u001b[49m(\u001b[38;5;241m10\u001b[39m,\u001b[38;5;241m50\u001b[39m)\n",
      "\u001b[1;31mNameError\u001b[0m: name 'subtraction' is not defined"
     ]
    }
   ],
   "source": [
    "addition(10,50)\n",
    "subtraction(10,50)"
   ]
  },
  {
   "cell_type": "raw",
   "id": "e2794028",
   "metadata": {},
   "source": []
  },
  {
   "cell_type": "code",
   "execution_count": 23,
   "id": "8e1fa0b5",
   "metadata": {},
   "outputs": [
    {
     "name": "stdout",
     "output_type": "stream",
     "text": [
      " Enter the limit:12\n",
      "78\n"
     ]
    }
   ],
   "source": [
    "# sum the numbers from 1 to 20 using for loop\n",
    "n=int(input(\" Enter the limit:\"))\n",
    "sum=0\n",
    "for i in range(1,n+1):\n",
    "    sum=sum+i\n",
    "print(sum)\n"
   ]
  },
  {
   "cell_type": "code",
   "execution_count": 18,
   "id": "aa502f6a",
   "metadata": {},
   "outputs": [
    {
     "name": "stdout",
     "output_type": "stream",
     "text": [
      "Enter the Number:2\n",
      "the number lies between 1 and 10\n"
     ]
    }
   ],
   "source": [
    "# 5)Write code to test whether the given number lies between 1 and 10\n",
    "n=int(input(\"Enter the Number:\"))\n",
    "# for i in range(1,10):\n",
    "if n<=10:\n",
    "    print(\"the number lies between 1 and 10\")\n",
    "else:\n",
    "    print(\"the number not lies between 1 and 10\")\n",
    "        "
   ]
  },
  {
   "cell_type": "code",
   "execution_count": 25,
   "id": "921cb810",
   "metadata": {},
   "outputs": [
    {
     "name": "stdout",
     "output_type": "stream",
     "text": [
      "10\n",
      "12\n",
      "14\n",
      "16\n",
      "18\n",
      "20\n",
      "22\n",
      "24\n",
      "26\n",
      "28\n",
      "30\n",
      "32\n",
      "34\n",
      "36\n",
      "38\n",
      "40\n",
      "42\n",
      "44\n",
      "46\n",
      "48\n",
      "50\n"
     ]
    }
   ],
   "source": [
    "# Display multiples of 2 from 10 to 50 using range\n",
    "for i in range(10,51,2):\n",
    "    print(i)"
   ]
  },
  {
   "cell_type": "code",
   "execution_count": 27,
   "id": "3b4f8db4",
   "metadata": {},
   "outputs": [
    {
     "name": "stdout",
     "output_type": "stream",
     "text": [
      "10\n",
      "12\n",
      "14\n",
      "16\n",
      "18\n",
      "20\n",
      "22\n",
      "24\n",
      "26\n",
      "28\n",
      "30\n",
      "32\n",
      "34\n",
      "36\n",
      "38\n",
      "40\n",
      "42\n",
      "44\n",
      "46\n",
      "48\n",
      "50\n"
     ]
    }
   ],
   "source": [
    "for i in range(10,51):\n",
    "    if i%2==0:\n",
    "        print(i)"
   ]
  },
  {
   "cell_type": "code",
   "execution_count": 40,
   "id": "8c8cfca0",
   "metadata": {},
   "outputs": [],
   "source": [
    "def calculation(a,b):\n",
    "    Addition = a+b\n",
    "    Subtraction = a-b\n",
    "    return Addition,Subtraction\n"
   ]
  },
  {
   "cell_type": "code",
   "execution_count": 37,
   "id": "2770e28d",
   "metadata": {},
   "outputs": [
    {
     "data": {
      "text/plain": [
       "(15, -5)"
      ]
     },
     "execution_count": 37,
     "metadata": {},
     "output_type": "execute_result"
    }
   ],
   "source": [
    "calculation(5,10)\n"
   ]
  },
  {
   "cell_type": "code",
   "execution_count": 45,
   "id": "1d52d449",
   "metadata": {},
   "outputs": [],
   "source": [
    "def calculation(a,b):\n",
    "    Addition = a+b\n",
    "    Subtraction = a-b\n",
    "    print(Addition,Subtraction)"
   ]
  },
  {
   "cell_type": "code",
   "execution_count": 46,
   "id": "6f8055d5",
   "metadata": {},
   "outputs": [
    {
     "name": "stdout",
     "output_type": "stream",
     "text": [
      "60 -40\n"
     ]
    }
   ],
   "source": [
    "calculation(10,50)"
   ]
  },
  {
   "cell_type": "code",
   "execution_count": 43,
   "id": "e9ea465b",
   "metadata": {},
   "outputs": [
    {
     "data": {
      "text/plain": [
       "(50, 10)"
      ]
     },
     "execution_count": 43,
     "metadata": {},
     "output_type": "execute_result"
    }
   ],
   "source": [
    "calculation(30,20)"
   ]
  },
  {
   "cell_type": "code",
   "execution_count": 39,
   "id": "73fddc49",
   "metadata": {},
   "outputs": [
    {
     "ename": "TypeError",
     "evalue": "'list' object is not callable",
     "output_type": "error",
     "traceback": [
      "\u001b[1;31m---------------------------------------------------------------------------\u001b[0m",
      "\u001b[1;31mTypeError\u001b[0m                                 Traceback (most recent call last)",
      "Cell \u001b[1;32mIn[39], line 4\u001b[0m\n\u001b[0;32m      2\u001b[0m \u001b[38;5;28;01mfor\u001b[39;00m i \u001b[38;5;129;01min\u001b[39;00m \u001b[38;5;28mrange\u001b[39m(\u001b[38;5;241m4\u001b[39m,\u001b[38;5;241m31\u001b[39m):\n\u001b[0;32m      3\u001b[0m     \u001b[38;5;28;01mif\u001b[39;00m i \u001b[38;5;241m%\u001b[39m \u001b[38;5;241m2\u001b[39m \u001b[38;5;241m==\u001b[39m \u001b[38;5;241m0\u001b[39m:\n\u001b[1;32m----> 4\u001b[0m         \u001b[38;5;28mprint\u001b[39m(\u001b[38;5;28;43mlist\u001b[39;49m\u001b[43m(\u001b[49m\u001b[43mi\u001b[49m\u001b[43m)\u001b[49m)\n",
      "\u001b[1;31mTypeError\u001b[0m: 'list' object is not callable"
     ]
    }
   ],
   "source": [
    "# Generate a Python list of all the even numbers between 4 to 30\n",
    "for i in range(4,31):\n",
    "    if i % 2 == 0:\n",
    "        print(list(i))\n",
    "        "
   ]
  },
  {
   "cell_type": "code",
   "execution_count": null,
   "id": "33ece60a",
   "metadata": {},
   "outputs": [],
   "source": [
    "# reate a function showEmployee() in such a way that it should accept employee name, and it’s salary and display both,\n",
    "# and if the salary is missing in function call it should show it as 9000"
   ]
  },
  {
   "cell_type": "code",
   "execution_count": 13,
   "id": "491edac8",
   "metadata": {},
   "outputs": [
    {
     "ename": "SyntaxError",
     "evalue": "invalid syntax (25845106.py, line 6)",
     "output_type": "error",
     "traceback": [
      "\u001b[1;36m  Cell \u001b[1;32mIn[13], line 6\u001b[1;36m\u001b[0m\n\u001b[1;33m    elif:\u001b[0m\n\u001b[1;37m        ^\u001b[0m\n\u001b[1;31mSyntaxError\u001b[0m\u001b[1;31m:\u001b[0m invalid syntax\n"
     ]
    }
   ],
   "source": [
    "def showEmployee(x,y):\n",
    "    x = str(input(\"Employee Name:\"))\n",
    "    y = int(input(\"Salary:\"))\n",
    "    if type(x)==\"str\":\n",
    "            print(\"Employee Name is shown as a string\")\n",
    "    elif: \n",
    "        type(y)==\" \":\n",
    "            print(\"9000\")\n",
    "    else:\n",
    "            print(\"eeee\")\n",
    "    \n",
    "    \n"
   ]
  },
  {
   "cell_type": "code",
   "execution_count": 8,
   "id": "b4d9ea7b",
   "metadata": {},
   "outputs": [
    {
     "name": "stdout",
     "output_type": "stream",
     "text": [
      "Employee Name:10000\n",
      "Salary:548\n",
      "Employee Name is shown as a string\n"
     ]
    }
   ],
   "source": [
    "\n",
    "showEmployee(1000,\"tre\")\n"
   ]
  },
  {
   "cell_type": "code",
   "execution_count": null,
   "id": "4211ebe9",
   "metadata": {},
   "outputs": [],
   "source": [
    "# Write a recursive function to calculate the sum of numbers from 0 to 10"
   ]
  },
  {
   "cell_type": "code",
   "execution_count": 12,
   "id": "beb00b2c",
   "metadata": {},
   "outputs": [
    {
     "ename": "UnboundLocalError",
     "evalue": "local variable 'sum' referenced before assignment",
     "output_type": "error",
     "traceback": [
      "\u001b[1;31m---------------------------------------------------------------------------\u001b[0m",
      "\u001b[1;31mUnboundLocalError\u001b[0m                         Traceback (most recent call last)",
      "Cell \u001b[1;32mIn[12], line 6\u001b[0m\n\u001b[0;32m      4\u001b[0m     \u001b[38;5;28msum\u001b[39m \u001b[38;5;241m=\u001b[39m \u001b[38;5;28msum\u001b[39m\u001b[38;5;241m+\u001b[39mi\n\u001b[0;32m      5\u001b[0m     \u001b[38;5;28mprint\u001b[39m(\u001b[38;5;124m\"\u001b[39m\u001b[38;5;124mThe sum of the numbers from 0 to 10 is:\u001b[39m\u001b[38;5;124m\"\u001b[39m,\u001b[38;5;28msum\u001b[39m)\n\u001b[1;32m----> 6\u001b[0m \u001b[43mrecursion\u001b[49m\u001b[43m(\u001b[49m\u001b[43mi\u001b[49m\u001b[43m)\u001b[49m\n",
      "Cell \u001b[1;32mIn[12], line 3\u001b[0m, in \u001b[0;36mrecursion\u001b[1;34m(i)\u001b[0m\n\u001b[0;32m      2\u001b[0m \u001b[38;5;28;01mdef\u001b[39;00m \u001b[38;5;21mrecursion\u001b[39m(i):\n\u001b[1;32m----> 3\u001b[0m     \u001b[38;5;28;43msum\u001b[39;49m\u001b[38;5;241m<\u001b[39m\u001b[38;5;241m=\u001b[39m\u001b[38;5;241m10\u001b[39m\n\u001b[0;32m      4\u001b[0m     \u001b[38;5;28msum\u001b[39m \u001b[38;5;241m=\u001b[39m \u001b[38;5;28msum\u001b[39m\u001b[38;5;241m+\u001b[39mi\n\u001b[0;32m      5\u001b[0m     \u001b[38;5;28mprint\u001b[39m(\u001b[38;5;124m\"\u001b[39m\u001b[38;5;124mThe sum of the numbers from 0 to 10 is:\u001b[39m\u001b[38;5;124m\"\u001b[39m,\u001b[38;5;28msum\u001b[39m)\n",
      "\u001b[1;31mUnboundLocalError\u001b[0m: local variable 'sum' referenced before assignment"
     ]
    }
   ],
   "source": [
    "i=0\n",
    "def recursion(i):\n",
    "    sum<=10\n",
    "    sum = sum+i\n",
    "    print(\"The sum of the numbers from 0 to 10 is:\",sum)\n",
    "recursion(i)"
   ]
  },
  {
   "cell_type": "code",
   "execution_count": null,
   "id": "c5a83c4d",
   "metadata": {},
   "outputs": [],
   "source": [
    "# Generate a Python list of all the even numbers between 4 to 30\n"
   ]
  },
  {
   "cell_type": "code",
   "execution_count": null,
   "id": "fcd47144",
   "metadata": {},
   "outputs": [],
   "source": []
  },
  {
   "cell_type": "code",
   "execution_count": 1,
   "id": "aa7519a1",
   "metadata": {},
   "outputs": [
    {
     "name": "stdout",
     "output_type": "stream",
     "text": [
      "Twinkle, twinkle, little star, \n",
      "\tHow I wonder what you are! \n",
      "\t\tUp above the world so high, \n",
      "\t\tLike a diamond in the sky. \n",
      "Twinkle, twinkle, little star, \n",
      "\tHow I wonder what you are!\n"
     ]
    }
   ],
   "source": [
    "print(\"Twinkle, twinkle, little star, \\n\\tHow I wonder what you are! \\n\\t\\tUp above the world so high, \\n\\t\\tLike a diamond in the sky. \\nTwinkle, twinkle, little star, \\n\\tHow I wonder what you are!\")\n"
   ]
  },
  {
   "cell_type": "code",
   "execution_count": 4,
   "id": "97632665",
   "metadata": {},
   "outputs": [
    {
     "name": "stdout",
     "output_type": "stream",
     "text": [
      "Enter the name of filerahini sathish mithwin\n",
      "['rahini sathish mithwin']\n"
     ]
    }
   ],
   "source": [
    "file_name=input('Enter the name of file')\n",
    "a=file_name.split('.')\n",
    "print(a)"
   ]
  },
  {
   "cell_type": "code",
   "execution_count": 14,
   "id": "f989bd54",
   "metadata": {},
   "outputs": [
    {
     "name": "stdout",
     "output_type": "stream",
     "text": [
      "Input an integer : 8\n",
      "984\n"
     ]
    }
   ],
   "source": [
    "x = int(input(\"Input an integer : \"))\n",
    "n1 = int( \"%s\" % x )\n",
    "n2 = int( \"%s%s\" % (x,x) )\n",
    "n3 = int( \"%s%s%s\" % (x,x,x) )\n",
    "print (n1+n2+n3)"
   ]
  },
  {
   "cell_type": "code",
   "execution_count": 15,
   "id": "5d4bc2ee",
   "metadata": {},
   "outputs": [],
   "source": [
    "def sumofarray(b):\n",
    "    add=0\n",
    "    for i in b:\n",
    "        add=add+i\n",
    "    return add"
   ]
  },
  {
   "cell_type": "code",
   "execution_count": 20,
   "id": "3d79d991",
   "metadata": {},
   "outputs": [
    {
     "ename": "TypeError",
     "evalue": "'int' object is not iterable",
     "output_type": "error",
     "traceback": [
      "\u001b[1;31m---------------------------------------------------------------------------\u001b[0m",
      "\u001b[1;31mTypeError\u001b[0m                                 Traceback (most recent call last)",
      "Cell \u001b[1;32mIn[20], line 1\u001b[0m\n\u001b[1;32m----> 1\u001b[0m \u001b[43msumofarray\u001b[49m\u001b[43m(\u001b[49m\u001b[38;5;241;43m10\u001b[39;49m\u001b[43m)\u001b[49m\n",
      "Cell \u001b[1;32mIn[15], line 3\u001b[0m, in \u001b[0;36msumofarray\u001b[1;34m(b)\u001b[0m\n\u001b[0;32m      1\u001b[0m \u001b[38;5;28;01mdef\u001b[39;00m \u001b[38;5;21msumofarray\u001b[39m(b):\n\u001b[0;32m      2\u001b[0m     add\u001b[38;5;241m=\u001b[39m\u001b[38;5;241m0\u001b[39m\n\u001b[1;32m----> 3\u001b[0m     \u001b[38;5;28;01mfor\u001b[39;00m i \u001b[38;5;129;01min\u001b[39;00m b:\n\u001b[0;32m      4\u001b[0m         add\u001b[38;5;241m=\u001b[39madd\u001b[38;5;241m+\u001b[39mi\n\u001b[0;32m      5\u001b[0m     \u001b[38;5;28;01mreturn\u001b[39;00m add\n",
      "\u001b[1;31mTypeError\u001b[0m: 'int' object is not iterable"
     ]
    }
   ],
   "source": [
    "sumofarray(10)\n"
   ]
  },
  {
   "cell_type": "code",
   "execution_count": 21,
   "id": "b0f3f232",
   "metadata": {},
   "outputs": [],
   "source": [
    "def table(n,i):\n",
    "    print(n*i)\n",
    "    i=i+1\n",
    "    if i<=10:\n",
    "        table(n,i)\n",
    "        "
   ]
  },
  {
   "cell_type": "code",
   "execution_count": 22,
   "id": "476b4c8e",
   "metadata": {},
   "outputs": [
    {
     "name": "stdout",
     "output_type": "stream",
     "text": [
      "12\n",
      "24\n",
      "36\n",
      "48\n",
      "60\n",
      "72\n",
      "84\n",
      "96\n",
      "108\n",
      "120\n"
     ]
    }
   ],
   "source": [
    "table(12,1)"
   ]
  },
  {
   "cell_type": "code",
   "execution_count": 23,
   "id": "de61b4b4",
   "metadata": {},
   "outputs": [
    {
     "data": {
      "text/plain": [
       "'Hll 1 Wrld 2'"
      ]
     },
     "execution_count": 23,
     "metadata": {},
     "output_type": "execute_result"
    }
   ],
   "source": [
    "string = 'Hello 1 World 2'\n",
    "vowels = ('a','e','i','o','u')\n",
    "''.join([c for c in string if c not in vowels])\n"
   ]
  },
  {
   "cell_type": "code",
   "execution_count": null,
   "id": "8b20b7a8",
   "metadata": {},
   "outputs": [],
   "source": []
  }
 ],
 "metadata": {
  "kernelspec": {
   "display_name": "Python 3 (ipykernel)",
   "language": "python",
   "name": "python3"
  },
  "language_info": {
   "codemirror_mode": {
    "name": "ipython",
    "version": 3
   },
   "file_extension": ".py",
   "mimetype": "text/x-python",
   "name": "python",
   "nbconvert_exporter": "python",
   "pygments_lexer": "ipython3",
   "version": "3.10.9"
  }
 },
 "nbformat": 4,
 "nbformat_minor": 5
}
